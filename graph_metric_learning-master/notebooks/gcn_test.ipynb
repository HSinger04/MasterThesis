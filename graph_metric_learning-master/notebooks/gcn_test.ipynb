{
 "cells": [
  {
   "cell_type": "code",
   "execution_count": null,
   "metadata": {},
   "outputs": [],
   "source": [
    "import pickle\n",
    "import numpy as np"
   ]
  },
  {
   "cell_type": "code",
   "execution_count": null,
   "metadata": {},
   "outputs": [],
   "source": [
    "!pwd"
   ]
  },
  {
   "cell_type": "code",
   "execution_count": null,
   "metadata": {},
   "outputs": [],
   "source": [
    "filename = \"data/ntu/one_shot/sample_label.pkl\"\n",
    "filename_sample_data = \"data/ntu/one_shot/sample_data_joint.npy\"\n",
    "filename_train_data = \"data/ntu/one_shot/train_data_joint.npy\"\n",
    "filename_val_data = \"data/ntu/one_shot/val_data_joint.npy\""
   ]
  },
  {
   "cell_type": "code",
   "execution_count": null,
   "metadata": {},
   "outputs": [],
   "source": [
    "def read_pickle(filename):\n",
    "    with open(filename, \"rb\") as f:\n",
    "        data = pickle.load(f)\n",
    "    return data"
   ]
  },
  {
   "cell_type": "markdown",
   "metadata": {},
   "source": [
    "## Sample data"
   ]
  },
  {
   "cell_type": "code",
   "execution_count": null,
   "metadata": {},
   "outputs": [],
   "source": [
    "sample_joint_data = np.load(filename_sample_data)\n",
    "sample_joint_data.shape"
   ]
  },
  {
   "cell_type": "markdown",
   "metadata": {},
   "source": [
    "## Validation Data"
   ]
  },
  {
   "cell_type": "code",
   "execution_count": null,
   "metadata": {},
   "outputs": [],
   "source": [
    "val_joint_data = np.load(filename_val_data)\n",
    "val_joint_data.shape"
   ]
  },
  {
   "cell_type": "code",
   "execution_count": null,
   "metadata": {},
   "outputs": [],
   "source": [
    "val_joint_data[0].shape"
   ]
  },
  {
   "cell_type": "code",
   "execution_count": null,
   "metadata": {},
   "outputs": [],
   "source": [
    "val_joint_data[0].shape"
   ]
  },
  {
   "cell_type": "code",
   "execution_count": null,
   "metadata": {},
   "outputs": [],
   "source": [
    "# samples = read_pickle(filename_val_data)"
   ]
  },
  {
   "cell_type": "markdown",
   "metadata": {},
   "source": [
    "# GCN"
   ]
  },
  {
   "cell_type": "code",
   "execution_count": null,
   "metadata": {},
   "outputs": [],
   "source": [
    "import  torch\n",
    "from    torch import nn\n",
    "from    torch.nn import functional as F\n",
    "# from    layer import GraphConvolution"
   ]
  },
  {
   "cell_type": "code",
   "execution_count": null,
   "metadata": {},
   "outputs": [],
   "source": [
    "def sparse_dropout(x, rate, noise_shape):\n",
    "    \"\"\"\n",
    "    :param x:\n",
    "    :param rate:\n",
    "    :param noise_shape: int scalar\n",
    "    :return:\n",
    "    \"\"\"\n",
    "    random_tensor = 1 - rate\n",
    "    random_tensor += torch.rand(noise_shape).to(x.device)\n",
    "    dropout_mask = torch.floor(random_tensor).byte()\n",
    "    i = x._indices() # [2, 49216]\n",
    "    v = x._values() # [49216]\n",
    "\n",
    "    # [2, 4926] => [49216, 2] => [remained node, 2] => [2, remained node]\n",
    "    i = i[:, dropout_mask]\n",
    "    v = v[dropout_mask]\n",
    "\n",
    "    out = torch.sparse.FloatTensor(i, v, x.shape).to(x.device)\n",
    "\n",
    "    out = out * (1./ (1-rate))\n",
    "\n",
    "    return out\n",
    "\n",
    "\n",
    "def dot(x, y, sparse=False):\n",
    "    if sparse:\n",
    "        res = torch.sparse.mm(x, y)\n",
    "    else:\n",
    "        res = torch.mm(x, y)\n",
    "\n",
    "    return res"
   ]
  },
  {
   "cell_type": "code",
   "execution_count": null,
   "metadata": {},
   "outputs": [],
   "source": [
    "class GraphConvolution(nn.Module):\n",
    "\n",
    "\n",
    "    def __init__(self, input_dim, output_dim, num_features_nonzero,\n",
    "                 dropout=0.,\n",
    "                 is_sparse_inputs=False,\n",
    "                 bias=False,\n",
    "                 activation = F.relu,\n",
    "                 featureless=False):\n",
    "        super(GraphConvolution, self).__init__()\n",
    "\n",
    "\n",
    "        self.dropout = dropout\n",
    "        self.bias = bias\n",
    "        self.activation = activation\n",
    "        self.is_sparse_inputs = is_sparse_inputs\n",
    "        self.featureless = featureless\n",
    "        self.num_features_nonzero = num_features_nonzero\n",
    "\n",
    "        self.weight = nn.Parameter(torch.randn(input_dim, output_dim))\n",
    "        self.bias = None\n",
    "        if bias:\n",
    "            self.bias = nn.Parameter(torch.zeros(output_dim))\n",
    "\n",
    "\n",
    "    def forward(self, inputs):\n",
    "        # print('inputs:', inputs)\n",
    "        x, support = inputs\n",
    "\n",
    "        if self.training and self.is_sparse_inputs:\n",
    "            x = sparse_dropout(x, self.dropout, self.num_features_nonzero)\n",
    "        elif self.training:\n",
    "            x = F.dropout(x, self.dropout)\n",
    "\n",
    "        # convolve\n",
    "        if not self.featureless: # if it has features x\n",
    "            if self.is_sparse_inputs:\n",
    "                xw = torch.sparse.mm(x, self.weight)\n",
    "            else:\n",
    "                xw = torch.mm(x, self.weight)\n",
    "        else:\n",
    "            xw = self.weight\n",
    "\n",
    "        out = torch.sparse.mm(support, xw)\n",
    "\n",
    "        if self.bias is not None:\n",
    "            out += self.bias\n",
    "\n",
    "        return self.activation(out), support"
   ]
  },
  {
   "cell_type": "code",
   "execution_count": null,
   "metadata": {},
   "outputs": [],
   "source": [
    "class GCN(nn.Module):\n",
    "\n",
    "\n",
    "    def __init__(self, input_dim, output_dim, num_features_nonzero):\n",
    "        super(GCN, self).__init__()\n",
    "\n",
    "        hidden_layers = 16\n",
    "        drop_out_rate = 0.5\n",
    "        self.input_dim = input_dim # 1433\n",
    "        self.output_dim = output_dim\n",
    "\n",
    "        print('input dim:', input_dim)\n",
    "        print('output dim:', output_dim)\n",
    "        print('num_features_nonzero:', num_features_nonzero)\n",
    "\n",
    "\n",
    "        self.layers = nn.Sequential(GraphConvolution(self.input_dim, hidden_layers, num_features_nonzero,\n",
    "                                                     activation=F.relu,\n",
    "                                                     dropout=drop_out_rate,\n",
    "                                                     is_sparse_inputs=True),\n",
    "\n",
    "                                    GraphConvolution(hidden_layers, output_dim, num_features_nonzero,\n",
    "                                                     activation=F.relu,\n",
    "                                                     dropout=drop_out_rate,\n",
    "                                                     is_sparse_inputs=False),\n",
    "\n",
    "                                    )\n",
    "\n",
    "    def forward(self, inputs):\n",
    "        x, support = inputs\n",
    "\n",
    "        x = self.layers((x, support))\n",
    "\n",
    "        return x\n",
    "\n",
    "    def l2_loss(self):\n",
    "\n",
    "        layer = self.layers.children()\n",
    "        layer = next(iter(layer))\n",
    "\n",
    "        loss = None\n",
    "\n",
    "        for p in layer.parameters():\n",
    "            if loss is None:\n",
    "                loss = p.pow(2).sum()\n",
    "            else:\n",
    "                loss += p.pow(2).sum()\n",
    "\n",
    "        return loss"
   ]
  },
  {
   "cell_type": "code",
   "execution_count": null,
   "metadata": {},
   "outputs": [],
   "source": [
    "val_joint_data[0].shape"
   ]
  },
  {
   "cell_type": "code",
   "execution_count": null,
   "metadata": {},
   "outputs": [],
   "source": [
    "input_dim = val_joint_data[0].shape[0] *  val_joint_data[0].shape[1] *  val_joint_data[0].shape[2] *  val_joint_data[0].shape[3]"
   ]
  },
  {
   "cell_type": "code",
   "execution_count": null,
   "metadata": {},
   "outputs": [],
   "source": [
    "a = GCN(input_dim, 100, 0)"
   ]
  },
  {
   "cell_type": "code",
   "execution_count": null,
   "metadata": {},
   "outputs": [],
   "source": [
    "data = torch.from_numpy(val_joint_data[0])"
   ]
  },
  {
   "cell_type": "code",
   "execution_count": null,
   "metadata": {},
   "outputs": [],
   "source": [
    "a((data, 200))"
   ]
  }
 ],
 "metadata": {
  "kernelspec": {
   "display_name": "Python 3",
   "language": "python",
   "name": "python3"
  },
  "language_info": {
   "codemirror_mode": {
    "name": "ipython",
    "version": 3
   },
   "file_extension": ".py",
   "mimetype": "text/x-python",
   "name": "python",
   "nbconvert_exporter": "python",
   "pygments_lexer": "ipython3",
   "version": "3.7.4"
  }
 },
 "nbformat": 4,
 "nbformat_minor": 4
}
